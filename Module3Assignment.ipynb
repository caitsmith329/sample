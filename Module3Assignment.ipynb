{
 "cells": [
  {
   "cell_type": "markdown",
   "metadata": {},
   "source": [
    "Imported Data Set \"temps\":"
   ]
  },
  {
   "cell_type": "code",
   "execution_count": 16,
   "metadata": {},
   "outputs": [],
   "source": [
    "temps = [56.2,31.8,'x',81.7,45.6,71.3,'this is text',62.9,59.0,92.5,95.0,19.2,15.0]"
   ]
  },
  {
   "cell_type": "markdown",
   "metadata": {},
   "source": [
    "Part 1 of Module 3 Assignment:"
   ]
  },
  {
   "cell_type": "code",
   "execution_count": 17,
   "metadata": {},
   "outputs": [
    {
     "name": "stdout",
     "output_type": "stream",
     "text": [
      "56.2\n",
      "31.8\n",
      "x\n",
      "81.7\n",
      "45.6\n",
      "71.3\n",
      "this is text\n",
      "62.9\n",
      "59.0\n",
      "92.5\n",
      "95.0\n",
      "19.2\n",
      "15.0\n"
     ]
    }
   ],
   "source": [
    "for x in temps:\n",
    "    print(x)\n",
    "    #this code will iterate through each element of \"temps\" -- however, this does\n",
    "    #not take into account that some of these elements are not, in fact,\n",
    "    #temperatures and therefore are not relevant to the data set\n",
    "    #HOwever, this does answer the first part of the Module 3 assignment. It does\n",
    "    #iterate trhough each of the elements of the \"temps\" list"
   ]
  },
  {
   "cell_type": "markdown",
   "metadata": {},
   "source": [
    "Part 2 of Module 3 Assignment:"
   ]
  },
  {
   "cell_type": "code",
   "execution_count": 18,
   "metadata": {},
   "outputs": [
    {
     "name": "stdout",
     "output_type": "stream",
     "text": [
      "56.2 degrees Fahrenheit is equivalent with 13.444444444444446 degrees Celsius.\n",
      "31.8 degrees Fahrenheit is equivalent with -0.11111111111111072 degrees Celsius.\n",
      "81.7 degrees Fahrenheit is equivalent with 27.611111111111114 degrees Celsius.\n",
      "45.6 degrees Fahrenheit is equivalent with 7.555555555555556 degrees Celsius.\n",
      "71.3 degrees Fahrenheit is equivalent with 21.833333333333332 degrees Celsius.\n",
      "62.9 degrees Fahrenheit is equivalent with 17.166666666666668 degrees Celsius.\n",
      "59.0 degrees Fahrenheit is equivalent with 15.0 degrees Celsius.\n",
      "92.5 degrees Fahrenheit is equivalent with 33.611111111111114 degrees Celsius.\n",
      "95.0 degrees Fahrenheit is equivalent with 35.0 degrees Celsius.\n",
      "19.2 degrees Fahrenheit is equivalent with -7.111111111111112 degrees Celsius.\n",
      "15.0 degrees Fahrenheit is equivalent with -9.444444444444445 degrees Celsius.\n"
     ]
    }
   ],
   "source": [
    "for x in temps:\n",
    "    if type(x) == str: \n",
    "        continue\n",
    "    #this code tells the program to pass over string elements in \"temps\" and move on\n",
    "    #doing so allows the float elements remaining in \"temps\" to be operated on in the \"else\" statement below\n",
    "    else:\n",
    "        print(x, \"degrees Fahrenheit is equivalent with\", (x - 32.0) * (5/9), \n",
    "              \"degrees Celsius.\")  \n",
    "        #the \"else\" statement above tells the code what to do with the reamining elements inside \"temps\"\n",
    "        #and how to display the degrees Farenheit and degrees Celsius as directed in assignment instructions\n",
    "        #I embedded the conversion from Farenheit to Celsius into the \"print\" command to reduce total lines of code"
   ]
  },
  {
   "cell_type": "markdown",
   "metadata": {},
   "source": [
    "Alternate method:"
   ]
  },
  {
   "cell_type": "code",
   "execution_count": 19,
   "metadata": {},
   "outputs": [
    {
     "name": "stdout",
     "output_type": "stream",
     "text": [
      "56.2 degrees Fahrenheit is equivalent with 13.444444444444446 degrees Celsius.\n",
      "31.8 degrees Fahrenheit is equivalent with -0.11111111111111072 degrees Celsius.\n",
      "81.7 degrees Fahrenheit is equivalent with 27.611111111111114 degrees Celsius.\n",
      "45.6 degrees Fahrenheit is equivalent with 7.555555555555556 degrees Celsius.\n",
      "71.3 degrees Fahrenheit is equivalent with 21.833333333333332 degrees Celsius.\n",
      "62.9 degrees Fahrenheit is equivalent with 17.166666666666668 degrees Celsius.\n",
      "59.0 degrees Fahrenheit is equivalent with 15.0 degrees Celsius.\n",
      "92.5 degrees Fahrenheit is equivalent with 33.611111111111114 degrees Celsius.\n",
      "95.0 degrees Fahrenheit is equivalent with 35.0 degrees Celsius.\n",
      "19.2 degrees Fahrenheit is equivalent with -7.111111111111112 degrees Celsius.\n",
      "15.0 degrees Fahrenheit is equivalent with -9.444444444444445 degrees Celsius.\n"
     ]
    }
   ],
   "source": [
    "StrTemps = []\n",
    "\n",
    "for x in temps:\n",
    "    if type(x) == str: StrTemps.append(x)\n",
    "    #this code removes the string elements from the \"temps\" list and into a separate list called \"StrTemps\"\n",
    "    #doing so allows the float elements remaining in \"temps\" to be operated on in the \"else\" statement below\n",
    "    else:\n",
    "        print(x, \"degrees Fahrenheit is equivalent with\", (x - 32.0) * (5/9), \n",
    "              \"degrees Celsius.\")  \n",
    "        #the \"else\" statement above tells the code what to do with the reamining elements inside \"temps\"\n",
    "        #and how to display the degrees Farenheit and degrees Celsius as directed in assignment instructions\n",
    "        #I embedded the conversion from Farenheit to Celsius into the \"print\" command to reduce total lines of code"
   ]
  },
  {
   "cell_type": "code",
   "execution_count": null,
   "metadata": {},
   "outputs": [],
   "source": []
  }
 ],
 "metadata": {
  "kernelspec": {
   "display_name": "Python 3",
   "language": "python",
   "name": "python3"
  },
  "language_info": {
   "codemirror_mode": {
    "name": "ipython",
    "version": 3
   },
   "file_extension": ".py",
   "mimetype": "text/x-python",
   "name": "python",
   "nbconvert_exporter": "python",
   "pygments_lexer": "ipython3",
   "version": "3.8.3"
  }
 },
 "nbformat": 4,
 "nbformat_minor": 2
}
